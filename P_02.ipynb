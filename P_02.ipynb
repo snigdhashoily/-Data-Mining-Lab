{
  "nbformat": 4,
  "nbformat_minor": 0,
  "metadata": {
    "colab": {
      "provenance": [],
      "mount_file_id": "11Qd_I_OEdXbBz5rtz71-hHE2uSw1YCeR",
      "authorship_tag": "ABX9TyOEijzeDPNcAeMqfX6uuVr4",
      "include_colab_link": true
    },
    "kernelspec": {
      "name": "python3",
      "display_name": "Python 3"
    },
    "language_info": {
      "name": "python"
    }
  },
  "cells": [
    {
      "cell_type": "markdown",
      "metadata": {
        "id": "view-in-github",
        "colab_type": "text"
      },
      "source": [
        "<a href=\"https://colab.research.google.com/github/snigdhashoily/-Data-Mining-Lab/blob/main/P_02.ipynb\" target=\"_parent\"><img src=\"https://colab.research.google.com/assets/colab-badge.svg\" alt=\"Open In Colab\"/></a>"
      ]
    },
    {
      "cell_type": "markdown",
      "source": [
        "# project 02\n",
        "# Data Mining Lab\n",
        "Course Code: CSE426\n",
        "\n",
        "Course Title: Data Mining Lab\n",
        "\n",
        "Submitted By\n",
        "\n",
        "Name: Sinigdha Akter Shoily\n",
        "\n",
        "ID: 212 505 1044\n",
        "\n",
        "Section: 8A\n",
        "\n",
        "Batch: 50th\n",
        "\n",
        "Semester: Spring 2024\n",
        "\n",
        "Department: CSE\n",
        "\n",
        "Supervised By\n",
        "\n",
        "Name: Mrinmoy Biswas Akash\n",
        "\n",
        "Lecturer\n",
        "\n",
        "Dept. of CSE (UITS)\n",
        "\n",
        "Date:05-07-2025"
      ],
      "metadata": {
        "id": "YBvsue8YFbQe"
      }
    },
    {
      "cell_type": "markdown",
      "source": [
        "# Discovering Edibility Patterns in Mushrooms using Association Rule Mining"
      ],
      "metadata": {
        "id": "TV19j-WjA5Wx"
      }
    },
    {
      "cell_type": "code",
      "source": [
        "# Step 1: Import Libraries\n",
        "import pandas as pd\n",
        "from mlxtend.frequent_patterns import apriori, association_rules\n",
        "from google.colab import drive"
      ],
      "metadata": {
        "id": "FwagGzBHBAmB"
      },
      "execution_count": 1,
      "outputs": []
    },
    {
      "cell_type": "code",
      "source": [
        "# Step 2: Mount Google Drive\n",
        "drive.mount('/content/drive')"
      ],
      "metadata": {
        "colab": {
          "base_uri": "https://localhost:8080/"
        },
        "id": "HsYw-qOaDWgF",
        "outputId": "cca22bb8-be5b-4f18-e8f5-6cd6776d72a8"
      },
      "execution_count": 2,
      "outputs": [
        {
          "output_type": "stream",
          "name": "stdout",
          "text": [
            "Drive already mounted at /content/drive; to attempt to forcibly remount, call drive.mount(\"/content/drive\", force_remount=True).\n"
          ]
        }
      ]
    },
    {
      "cell_type": "code",
      "source": [
        "# Step 3: Load the Dataset\n",
        "# Path to your mushroom dataset\n",
        "mushroom_path = '/content/drive/MyDrive/DM Final/mushrooms.csv'\n",
        "\n",
        "# Load dataset\n",
        "df = pd.read_csv(mushroom_path)\n",
        "print(\"Dataset Loaded:\")\n",
        "print(df.head())"
      ],
      "metadata": {
        "colab": {
          "base_uri": "https://localhost:8080/"
        },
        "id": "vqKMD4y9DWip",
        "outputId": "669ef531-ea21-4dd6-de2b-5e2ae711f889"
      },
      "execution_count": 3,
      "outputs": [
        {
          "output_type": "stream",
          "name": "stdout",
          "text": [
            "Dataset Loaded:\n",
            "  class cap-shape cap-surface cap-color bruises odor gill-attachment  \\\n",
            "0     p         x           s         n       t    p               f   \n",
            "1     e         x           s         y       t    a               f   \n",
            "2     e         b           s         w       t    l               f   \n",
            "3     p         x           y         w       t    p               f   \n",
            "4     e         x           s         g       f    n               f   \n",
            "\n",
            "  gill-spacing gill-size gill-color  ... stalk-surface-below-ring  \\\n",
            "0            c         n          k  ...                        s   \n",
            "1            c         b          k  ...                        s   \n",
            "2            c         b          n  ...                        s   \n",
            "3            c         n          n  ...                        s   \n",
            "4            w         b          k  ...                        s   \n",
            "\n",
            "  stalk-color-above-ring stalk-color-below-ring veil-type veil-color  \\\n",
            "0                      w                      w         p          w   \n",
            "1                      w                      w         p          w   \n",
            "2                      w                      w         p          w   \n",
            "3                      w                      w         p          w   \n",
            "4                      w                      w         p          w   \n",
            "\n",
            "  ring-number ring-type spore-print-color population habitat  \n",
            "0           o         p                 k          s       u  \n",
            "1           o         p                 n          n       g  \n",
            "2           o         p                 n          n       m  \n",
            "3           o         p                 k          s       u  \n",
            "4           o         e                 n          a       g  \n",
            "\n",
            "[5 rows x 23 columns]\n"
          ]
        }
      ]
    },
    {
      "cell_type": "code",
      "source": [
        "# Step 4: Data Preprocessing\n",
        "# - Convert all categorical columns into one-hot encoded form\n",
        "df_encoded = pd.get_dummies(df)\n",
        "print(\"\\nEncoded Dataset Sample:\")\n",
        "print(df_encoded.head())"
      ],
      "metadata": {
        "colab": {
          "base_uri": "https://localhost:8080/"
        },
        "id": "g2YI0x0MDWl3",
        "outputId": "221bb648-3604-45a9-802c-e4e39da086c9"
      },
      "execution_count": 4,
      "outputs": [
        {
          "output_type": "stream",
          "name": "stdout",
          "text": [
            "\n",
            "Encoded Dataset Sample:\n",
            "   class_e  class_p  cap-shape_b  cap-shape_c  cap-shape_f  cap-shape_k  \\\n",
            "0    False     True        False        False        False        False   \n",
            "1     True    False        False        False        False        False   \n",
            "2     True    False         True        False        False        False   \n",
            "3    False     True        False        False        False        False   \n",
            "4     True    False        False        False        False        False   \n",
            "\n",
            "   cap-shape_s  cap-shape_x  cap-surface_f  cap-surface_g  ...  population_s  \\\n",
            "0        False         True          False          False  ...          True   \n",
            "1        False         True          False          False  ...         False   \n",
            "2        False        False          False          False  ...         False   \n",
            "3        False         True          False          False  ...          True   \n",
            "4        False         True          False          False  ...         False   \n",
            "\n",
            "   population_v  population_y  habitat_d  habitat_g  habitat_l  habitat_m  \\\n",
            "0         False         False      False      False      False      False   \n",
            "1         False         False      False       True      False      False   \n",
            "2         False         False      False      False      False       True   \n",
            "3         False         False      False      False      False      False   \n",
            "4         False         False      False       True      False      False   \n",
            "\n",
            "   habitat_p  habitat_u  habitat_w  \n",
            "0      False       True      False  \n",
            "1      False      False      False  \n",
            "2      False      False      False  \n",
            "3      False       True      False  \n",
            "4      False      False      False  \n",
            "\n",
            "[5 rows x 119 columns]\n"
          ]
        }
      ]
    },
    {
      "cell_type": "code",
      "source": [
        "# Step 5: Frequent Itemset Mining using Apriori\n",
        "# - min_support = 0.3\n",
        "frequent_itemsets = apriori(df_encoded, min_support=0.3, use_colnames=True)\n",
        "print(\"\\nFrequent Itemsets (Support >= 0.3):\")\n",
        "print(frequent_itemsets.head())"
      ],
      "metadata": {
        "colab": {
          "base_uri": "https://localhost:8080/"
        },
        "id": "DCBA5I4SDWoo",
        "outputId": "4e2c4692-8f44-4256-d3cb-9822c734f8f7"
      },
      "execution_count": 5,
      "outputs": [
        {
          "output_type": "stream",
          "name": "stdout",
          "text": [
            "\n",
            "Frequent Itemsets (Support >= 0.3):\n",
            "    support         itemsets\n",
            "0  0.517971        (class_e)\n",
            "1  0.482029        (class_p)\n",
            "2  0.387986    (cap-shape_f)\n",
            "3  0.450025    (cap-shape_x)\n",
            "4  0.314623  (cap-surface_s)\n"
          ]
        }
      ]
    },
    {
      "cell_type": "code",
      "source": [
        "# Step 6: Generate Association Rules\n",
        "# - min_confidence = 0.7\n",
        "rules = association_rules(frequent_itemsets, metric=\"confidence\", min_threshold=0.7)\n",
        "rules_sorted = rules.sort_values(by=['confidence', 'lift'], ascending=False)\n",
        "\n",
        "# Show top 10 rules based on confidence and lift\n",
        "top_rules = rules_sorted.head(10)\n",
        "print(\"\\nTop 10 Association Rules:\")\n",
        "print(top_rules[['antecedents', 'consequents', 'support', 'confidence', 'lift']])"
      ],
      "metadata": {
        "colab": {
          "base_uri": "https://localhost:8080/"
        },
        "id": "pkIhfDnYDWrE",
        "outputId": "a2830262-4831-4778-dc82-e1155135b327"
      },
      "execution_count": 6,
      "outputs": [
        {
          "output_type": "stream",
          "name": "stdout",
          "text": [
            "\n",
            "Top 10 Association Rules:\n",
            "                                             antecedents  \\\n",
            "11767                         (stalk-shape_t, bruises_f)   \n",
            "26154      (stalk-shape_t, gill-attachment_f, bruises_f)   \n",
            "26167                         (stalk-shape_t, bruises_f)   \n",
            "26266            (stalk-shape_t, veil-type_p, bruises_f)   \n",
            "26275                         (stalk-shape_t, bruises_f)   \n",
            "41976  (stalk-shape_t, gill-attachment_f, veil-type_p...   \n",
            "41998      (stalk-shape_t, gill-attachment_f, bruises_f)   \n",
            "42004            (stalk-shape_t, veil-type_p, bruises_f)   \n",
            "42017                         (stalk-shape_t, bruises_f)   \n",
            "3437                          (stalk-shape_t, bruises_f)   \n",
            "\n",
            "                                             consequents   support  \\\n",
            "11767         (ring-number_o, ring-type_e, veil-color_w)  0.307238   \n",
            "26154         (ring-number_o, ring-type_e, veil-color_w)  0.307238   \n",
            "26167  (gill-attachment_f, ring-type_e, veil-color_w,...  0.307238   \n",
            "26266         (ring-number_o, ring-type_e, veil-color_w)  0.307238   \n",
            "26275  (ring-number_o, ring-type_e, veil-type_p, veil...  0.307238   \n",
            "41976         (ring-number_o, ring-type_e, veil-color_w)  0.307238   \n",
            "41998  (ring-number_o, ring-type_e, veil-type_p, veil...  0.307238   \n",
            "42004  (gill-attachment_f, ring-type_e, veil-color_w,...  0.307238   \n",
            "42017  (gill-attachment_f, ring-type_e, ring-number_o...  0.307238   \n",
            "3437                        (ring-number_o, ring-type_e)  0.307238   \n",
            "\n",
            "       confidence      lift  \n",
            "11767         1.0  3.153727  \n",
            "26154         1.0  3.153727  \n",
            "26167         1.0  3.153727  \n",
            "26266         1.0  3.153727  \n",
            "26275         1.0  3.153727  \n",
            "41976         1.0  3.153727  \n",
            "41998         1.0  3.153727  \n",
            "42004         1.0  3.153727  \n",
            "42017         1.0  3.153727  \n",
            "3437          1.0  3.143963  \n"
          ]
        },
        {
          "output_type": "stream",
          "name": "stderr",
          "text": [
            "/usr/local/lib/python3.11/dist-packages/mlxtend/frequent_patterns/association_rules.py:186: RuntimeWarning: invalid value encountered in divide\n",
            "  cert_metric = np.where(certainty_denom == 0, 0, certainty_num / certainty_denom)\n"
          ]
        }
      ]
    },
    {
      "cell_type": "code",
      "source": [
        "# Step 7: Analyze One Rule\n",
        "print(\"\\nSelected Rule for Explanation:\")\n",
        "selected_rule = top_rules.iloc[0]\n",
        "print(selected_rule)\n",
        "\n",
        "# Optional: Clean the display of antecedents/consequents\n",
        "print(\"\\nReadable Rule Format:\")\n",
        "print(f\"If a mushroom has {list(selected_rule['antecedents'])}, then it is likely to have {list(selected_rule['consequents'])}.\")\n",
        "print(f\"Confidence: {selected_rule['confidence']:.2f}, Lift: {selected_rule['lift']:.2f}\")"
      ],
      "metadata": {
        "colab": {
          "base_uri": "https://localhost:8080/"
        },
        "id": "XjjuDNa9DWtQ",
        "outputId": "93852ff6-b7e5-4983-c336-8f15de10f187"
      },
      "execution_count": 7,
      "outputs": [
        {
          "output_type": "stream",
          "name": "stdout",
          "text": [
            "\n",
            "Selected Rule for Explanation:\n",
            "antecedents                           (stalk-shape_t, bruises_f)\n",
            "consequents           (ring-number_o, ring-type_e, veil-color_w)\n",
            "antecedent support                                      0.307238\n",
            "consequent support                                      0.317085\n",
            "support                                                 0.307238\n",
            "confidence                                                   1.0\n",
            "lift                                                    3.153727\n",
            "representativity                                             1.0\n",
            "leverage                                                0.209817\n",
            "conviction                                                   inf\n",
            "zhangs_metric                                           0.985785\n",
            "jaccard                                                 0.968944\n",
            "certainty                                                    1.0\n",
            "kulczynski                                              0.984472\n",
            "Name: 11767, dtype: object\n",
            "\n",
            "Readable Rule Format:\n",
            "If a mushroom has ['stalk-shape_t', 'bruises_f'], then it is likely to have ['ring-number_o', 'ring-type_e', 'veil-color_w'].\n",
            "Confidence: 1.00, Lift: 3.15\n"
          ]
        }
      ]
    },
    {
      "cell_type": "code",
      "source": [],
      "metadata": {
        "id": "IfNRpX25DWw2"
      },
      "execution_count": null,
      "outputs": []
    }
  ]
}